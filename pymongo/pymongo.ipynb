{
 "cells": [
  {
   "cell_type": "code",
   "execution_count": null,
   "id": "d8b6b0b1",
   "metadata": {},
   "outputs": [],
   "source": []
  },
  {
   "cell_type": "code",
   "execution_count": null,
   "id": "c295a21f",
   "metadata": {},
   "outputs": [],
   "source": []
  },
  {
   "cell_type": "code",
   "execution_count": null,
   "id": "ca079cb4",
   "metadata": {},
   "outputs": [],
   "source": []
  },
  {
   "cell_type": "markdown",
   "id": "8e5e69f5",
   "metadata": {},
   "source": [
    "* Upto this we communicated with MongoDB Server by using mongodb shell i.e MongoDB shell acts as a client to perform our required database operations.\n",
    "* MongoDB shell is JavaScript based- special applications to communicates with MongoDb server\n",
    "* From Python Program to communicate with mongoDB database some special software must be required, which is nothing but Driver software i.e by using Driver Software Python program can communicated with MongoDB Database\n",
    "* Python Driver Software is: Python Library"
   ]
  },
  {
   "cell_type": "code",
   "execution_count": 3,
   "id": "97b9c00a",
   "metadata": {},
   "outputs": [
    {
     "name": "stdout",
     "output_type": "stream",
     "text": [
      "Collecting pymongo\n",
      "  Obtaining dependency information for pymongo from https://files.pythonhosted.org/packages/c8/1a/1ba5578cc3acc8ef0dfd6eb9385f9c4b0fe3039665af93bcf062c34fcdb6/pymongo-4.6.1-cp311-cp311-win_amd64.whl.metadata\n",
      "  Downloading pymongo-4.6.1-cp311-cp311-win_amd64.whl.metadata (22 kB)\n",
      "Collecting dnspython<3.0.0,>=1.16.0 (from pymongo)\n",
      "  Obtaining dependency information for dnspython<3.0.0,>=1.16.0 from https://files.pythonhosted.org/packages/b6/83/4a684a63d395007670bc95c1947c07045fe66141574e2f7e9e347df8499a/dnspython-2.5.0-py3-none-any.whl.metadata\n",
      "  Downloading dnspython-2.5.0-py3-none-any.whl.metadata (5.8 kB)\n",
      "Downloading pymongo-4.6.1-cp311-cp311-win_amd64.whl (472 kB)\n",
      "   ---------------------------------------- 0.0/472.7 kB ? eta -:--:--\n",
      "   --- ----------------------------------- 41.0/472.7 kB 960.0 kB/s eta 0:00:01\n",
      "   ---------- ----------------------------- 122.9/472.7 kB 1.4 MB/s eta 0:00:01\n",
      "   ---------------------- ----------------- 266.2/472.7 kB 2.0 MB/s eta 0:00:01\n",
      "   -------------------------- ------------- 317.4/472.7 kB 2.0 MB/s eta 0:00:01\n",
      "   -------------------------------- ------- 378.9/472.7 kB 1.7 MB/s eta 0:00:01\n",
      "   ------------------------------------ --- 430.1/472.7 kB 1.7 MB/s eta 0:00:01\n",
      "   ---------------------------------------- 472.7/472.7 kB 1.5 MB/s eta 0:00:00\n",
      "Downloading dnspython-2.5.0-py3-none-any.whl (305 kB)\n",
      "   ---------------------------------------- 0.0/305.4 kB ? eta -:--:--\n",
      "   --------------------------------- ------ 256.0/305.4 kB 5.2 MB/s eta 0:00:01\n",
      "   ---------------------------------------- 305.4/305.4 kB 3.7 MB/s eta 0:00:00\n",
      "Installing collected packages: dnspython, pymongo\n",
      "Successfully installed dnspython-2.5.0 pymongo-4.6.1\n"
     ]
    }
   ],
   "source": [
    "!pip install pymongo"
   ]
  },
  {
   "cell_type": "code",
   "execution_count": null,
   "id": "31c5433d",
   "metadata": {},
   "outputs": [],
   "source": [
    "db.dropdatabase()"
   ]
  },
  {
   "cell_type": "markdown",
   "id": "d4a6c242",
   "metadata": {},
   "source": [
    "#### Write a python scrpt to connnect with MongoDB and display all available databases?"
   ]
  },
  {
   "cell_type": "code",
   "execution_count": 4,
   "id": "22d51dc8",
   "metadata": {},
   "outputs": [
    {
     "name": "stdout",
     "output_type": "stream",
     "text": [
      "The Available Database are \n",
      "########################################\n",
      "My_Database\n",
      "admin\n",
      "chatflowdb\n",
      "config\n",
      "job_recom_db\n",
      "local\n"
     ]
    }
   ],
   "source": [
    "# we have o use clicent.list_database_names() method\n",
    "import pymongo\n",
    "client = pymongo.MongoClient()\n",
    "db_list = client.list_database_names()\n",
    "print('The Available Database are ')\n",
    "print('#'*40)\n",
    "for db in db_list:\n",
    "    print(db)\n",
    "client.close()"
   ]
  },
  {
   "cell_type": "markdown",
   "id": "76828a9e",
   "metadata": {},
   "source": [
    "#### WAP to create a database named woth python and in that database create a collection named with employees and insert on document?\n"
   ]
  },
  {
   "cell_type": "code",
   "execution_count": 7,
   "id": "98303ca6",
   "metadata": {},
   "outputs": [
    {
     "name": "stdout",
     "output_type": "stream",
     "text": [
      "Document Inserted Successfully!!!\n"
     ]
    }
   ],
   "source": [
    "import pymongo\n",
    "client = pymongo.MongoClient()\n",
    "\n",
    "db = client['pythondb'] # pythondb is db name\n",
    "\n",
    "empCollection = db.employees # Collection name\n",
    "\n",
    "document = {\n",
    "    'Eno': 100,\n",
    "    'Ename': 'ASHISH',\n",
    "    'ESAL': 10000000,\n",
    "    'eaddr': \"Punjab\"\n",
    "}\n",
    "\n",
    "empCollection.insert_one(document)\n",
    "\n",
    "print('Document Inserted Successfully!!!')\n",
    "client.close()"
   ]
  },
  {
   "cell_type": "markdown",
   "id": "d6446462",
   "metadata": {},
   "source": [
    "#### To insert multiple  documents :"
   ]
  },
  {
   "cell_type": "code",
   "execution_count": 8,
   "id": "6b0c80ba",
   "metadata": {},
   "outputs": [
    {
     "name": "stdout",
     "output_type": "stream",
     "text": [
      "All Documents Inserted Successfully!!!\n",
      "4\n"
     ]
    }
   ],
   "source": [
    "import pymongo\n",
    "client = pymongo.MongoClient()\n",
    "\n",
    "db = client['pythondb'] # pythondb is db name\n",
    "\n",
    "empCollection = db.employees # Collection name\n",
    "\n",
    "emplist =[\n",
    "    {\n",
    "    'Eno': 101,\n",
    "    'Ename': 'sonu',\n",
    "    'ESAL': 10000000,\n",
    "    'eaddr': \"up\"\n",
    "    },  {\n",
    "    'Eno': 102,\n",
    "    'Ename': 'krishna',\n",
    "    'ESAL': 50000000,\n",
    "    'eaddr': \"delhi\"\n",
    "    },  {\n",
    "    'Eno': 103,\n",
    "    'Ename': 'vivek',\n",
    "    'ESAL': 99000,\n",
    "    'eaddr': \"mp\"\n",
    "    },  {\n",
    "    'Eno': 104,\n",
    "    'Ename': 'duby',\n",
    "    'ESAL': 800000,\n",
    "    'eaddr': \"j&k\"\n",
    "    },\n",
    "]\n",
    "\n",
    "empCollection.insert_many(emplist)\n",
    "\n",
    "print('All Documents Inserted Successfully!!!')\n",
    "client.close()\n",
    "print(f'{len(emplist)}')"
   ]
  },
  {
   "cell_type": "markdown",
   "id": "3d4af48f",
   "metadata": {},
   "source": [
    "#### Read Dynamic Data from the end user & inserted into database"
   ]
  },
  {
   "cell_type": "markdown",
   "id": "0a79c023",
   "metadata": {},
   "source": [
    "> db.employees.deleteMany({}) => delete all data"
   ]
  },
  {
   "cell_type": "code",
   "execution_count": 10,
   "id": "d488160f",
   "metadata": {},
   "outputs": [
    {
     "name": "stdout",
     "output_type": "stream",
     "text": [
      "Rnter eno 106\n",
      "enter ename aa\n",
      "enter esalary 21321\n",
      "enter address asdsa\n",
      "Document Inserted Successfully!!!\n",
      "Do you want to insert moreno\n",
      "Thanks\n"
     ]
    }
   ],
   "source": [
    "import pymongo\n",
    "client = pymongo.MongoClient()\n",
    "\n",
    "db = client['pythondb'] # pythondb is db name\n",
    "\n",
    "empCollection = db.employees # Collection name\n",
    "\n",
    "while True:\n",
    "    Eno = int(input(\"Enter eno \"))\n",
    "    Ename = input(\"enter ename \")   \n",
    "    ESAL = float(input(\"enter esalary \"))    \n",
    "    eaddr = input(\"enter address \")  \n",
    "     \n",
    "    document = {\n",
    "        'Eno': Eno,\n",
    "        'Ename': Ename,\n",
    "        'ESAL': ESAL,\n",
    "        'eaddr': eaddr\n",
    "        }\n",
    "    \n",
    "    empCollection.insert_one(document)\n",
    "    print('Document Inserted Successfully!!!')\n",
    "    \n",
    "    option = input(\"Do you want to insert more \").lower()\n",
    "    \n",
    "    while option not in ('y','yes','n','no') :\n",
    "        option = input(\"Invalid Option, [yes/no] \").lower()\n",
    "\n",
    "    if option in ('no','n'):\n",
    "        break\n",
    "\n",
    "print(\"Thanks\")\n",
    "    \n",
    "client.close()"
   ]
  },
  {
   "cell_type": "markdown",
   "id": "3b86a5f1",
   "metadata": {},
   "source": [
    "***Note:***  insert() method is deprecated and hence it is not recommened to use instead. We can use inset_one() or insert_many() methods."
   ]
  },
  {
   "cell_type": "markdown",
   "id": "8b2ff71b",
   "metadata": {},
   "source": [
    " ####  Find Operation:\n",
    " * find_one()\n",
    " * find()\n",
    " \n",
    " 1. find_one()\n",
    "      - return python dict object\n",
    "      - to find only one matched document\n",
    " \n",
    " 2. find()\n",
    "      - all match documents to find\n",
    "      - it return cursor object"
   ]
  },
  {
   "cell_type": "markdown",
   "id": "3f282ae5",
   "metadata": {},
   "source": [
    "#### 5. To find only one document"
   ]
  },
  {
   "cell_type": "code",
   "execution_count": 12,
   "id": "fa7f18de",
   "metadata": {},
   "outputs": [
    {
     "name": "stdout",
     "output_type": "stream",
     "text": [
      "<class 'dict'>\n",
      "100\n"
     ]
    }
   ],
   "source": [
    "import pymongo\n",
    "client = pymongo.MongoClient()\n",
    "\n",
    "db = client['pythondb'] # pythondb is db name\n",
    "\n",
    "empCollection = db.employees # Collection name\n",
    "\n",
    "document = empCollection.find_one() \n",
    "print(type(document)) # dict\n",
    "\n",
    "print(document.get('Eno'))\n",
    "\n",
    "client.close()"
   ]
  },
  {
   "cell_type": "markdown",
   "id": "d3b9f532",
   "metadata": {},
   "source": [
    "#### To find multiple documents\n",
    "- WAP to display all documents from employees collections\n",
    "- here we have to use find() method."
   ]
  },
  {
   "cell_type": "code",
   "execution_count": 15,
   "id": "29673f6e",
   "metadata": {},
   "outputs": [
    {
     "name": "stdout",
     "output_type": "stream",
     "text": [
      "<class 'pymongo.cursor.Cursor'>\n",
      "<class 'dict'>\n",
      "100\n",
      "<class 'dict'>\n",
      "101\n",
      "<class 'dict'>\n",
      "102\n",
      "<class 'dict'>\n",
      "103\n",
      "<class 'dict'>\n",
      "104\n",
      "<class 'dict'>\n",
      "100\n"
     ]
    }
   ],
   "source": [
    "import pymongo\n",
    "client = pymongo.MongoClient()\n",
    "\n",
    "db = client['pythondb'] # pythondb is db name\n",
    "\n",
    "empCollection = db.employees # Collection name\n",
    "\n",
    "empcursor = empCollection.find() \n",
    "print(type(empcursor)) \n",
    "\n",
    "for document in empcursor:\n",
    "    print(type(document))\n",
    "    print(f\"{document.get('Eno')}\")\n",
    "client.close()"
   ]
  },
  {
   "cell_type": "markdown",
   "id": "0fb38bcf",
   "metadata": {},
   "source": [
    "#### To find all employees whose salary is grater than 1500\n",
    "> shell => db.employee.find({'esal':{$gt:1500}})\n",
    "> python => empcollection.find({'Esal':{'$gt' 1500}})"
   ]
  },
  {
   "cell_type": "code",
   "execution_count": 27,
   "id": "4577b32e",
   "metadata": {},
   "outputs": [
    {
     "name": "stdout",
     "output_type": "stream",
     "text": [
      "*********************************\n",
      "10000000\n",
      "10000000\n",
      "50000000\n",
      "800000\n",
      "10000000\n"
     ]
    }
   ],
   "source": [
    "import pymongo\n",
    "client = pymongo.MongoClient()\n",
    "\n",
    "db = client['pythondb'] # pythondb is db name\n",
    "\n",
    "empCollection = db.employees # Collection name\n",
    "\n",
    "empcursor = empCollection.find({'ESAL': {'$gt': 99000}}) #'' is required\n",
    "\n",
    "print(\"*\"*33)\n",
    "for document in empcursor:\n",
    "    print(f\"{document.get('ESAL')}\")\n",
    "\n",
    "client.close()"
   ]
  },
  {
   "cell_type": "markdown",
   "id": "f7a4dccc",
   "metadata": {},
   "source": [
    "#### 8 To find employees information based on descending order of salary?\n",
    "\n",
    "> shell : db.employees.find().sort({'ESAL': -1})\n",
    "\n",
    "> python : empCollection.find().sort('ESAL', -1)\n",
    "- sort => take 2 arguments second one is dicrection  "
   ]
  },
  {
   "cell_type": "code",
   "execution_count": 29,
   "id": "63b6ea03",
   "metadata": {},
   "outputs": [
    {
     "name": "stdout",
     "output_type": "stream",
     "text": [
      "*********************************\n",
      "102 krishna 50000000 delhi\n",
      "100 ASHISH 10000000 Punjab\n",
      "101 sonu 10000000 up\n",
      "100 ASHISH 10000000 Punjab\n",
      "104 duby 800000 j&k\n",
      "103 vivek 99000 mp\n"
     ]
    }
   ],
   "source": [
    "import pymongo\n",
    "client = pymongo.MongoClient()\n",
    "\n",
    "db = client['pythondb'] # pythondb is db name\n",
    "\n",
    "empCollection = db.employees # Collection name\n",
    "\n",
    "empcursor = empCollection.find().sort('ESAL',-1)\n",
    "\n",
    "print(\"*\"*33)\n",
    "for document in empcursor:\n",
    "    print(f\"{document.get('Eno')} {document.get('Ename')} {document.get('ESAL')} {document.get('eaddr')}\")\n",
    "\n",
    "client.close()"
   ]
  },
  {
   "cell_type": "markdown",
   "id": "cd94d59e",
   "metadata": {},
   "source": []
  },
  {
   "cell_type": "markdown",
   "id": "04b75a2e",
   "metadata": {},
   "source": []
  },
  {
   "cell_type": "markdown",
   "id": "bb35bfa3",
   "metadata": {},
   "source": [
    "#### 9. To display 3 employee information who are having least salary\n",
    "\n",
    ">  shell : db.employee.find().sort({'ESAL': 1}).limit(3)\n",
    "\n",
    "> python : empCollection.find().sort('ESAL', 1).limit(3)"
   ]
  },
  {
   "cell_type": "code",
   "execution_count": 31,
   "id": "aa4be15e",
   "metadata": {},
   "outputs": [
    {
     "name": "stdout",
     "output_type": "stream",
     "text": [
      "*********************************\n",
      "103 vivek 99000 mp\n",
      "104 duby 800000 j&k\n",
      "100 ASHISH 10000000 Punjab\n"
     ]
    }
   ],
   "source": [
    "import pymongo\n",
    "client = pymongo.MongoClient()\n",
    "\n",
    "db = client['pythondb'] # pythondb is db name\n",
    "\n",
    "empCollection = db.employees # Collection name\n",
    "\n",
    "empcursor = empCollection.find().sort('ESAL',1).limit(3)\n",
    "\n",
    "print(\"*\"*33)\n",
    "for document in empcursor:\n",
    "    print(f\"{document.get('Eno')} {document.get('Ename')} {document.get('ESAL')} {document.get('eaddr')}\")\n",
    "\n",
    "client.close()"
   ]
  },
  {
   "cell_type": "markdown",
   "id": "d6d666fe",
   "metadata": {},
   "source": [
    "#### 10. Display employee info based on given emp name ?\n",
    "document = empCollection.findOne({\"Ename\": name})"
   ]
  },
  {
   "cell_type": "code",
   "execution_count": 37,
   "id": "bf8ee723",
   "metadata": {},
   "outputs": [
    {
     "name": "stdout",
     "output_type": "stream",
     "text": [
      "100 ASHISH 10000000 Punjab\n"
     ]
    }
   ],
   "source": [
    "import pymongo\n",
    "client = pymongo.MongoClient()\n",
    "\n",
    "db = client['pythondb'] # pythondb is db name\n",
    "\n",
    "empCollection = db.employees # Collection name\n",
    "\n",
    "document = empCollection.find_one({\"Ename\": \"ASHISH\"})\n",
    "if document:\n",
    "    print(f\"{document.get('Eno')} {document.get('Ename')} {document.get('ESAL')} {document.get('eaddr')}\")\n",
    "else:\n",
    "    print(\"element not find\")\n",
    "client.close()"
   ]
  },
  {
   "cell_type": "code",
   "execution_count": null,
   "id": "b47c9a6e",
   "metadata": {},
   "outputs": [],
   "source": []
  }
 ],
 "metadata": {
  "kernelspec": {
   "display_name": "Python 3 (ipykernel)",
   "language": "python",
   "name": "python3"
  },
  "language_info": {
   "codemirror_mode": {
    "name": "ipython",
    "version": 3
   },
   "file_extension": ".py",
   "mimetype": "text/x-python",
   "name": "python",
   "nbconvert_exporter": "python",
   "pygments_lexer": "ipython3",
   "version": "3.11.5"
  }
 },
 "nbformat": 4,
 "nbformat_minor": 5
}
